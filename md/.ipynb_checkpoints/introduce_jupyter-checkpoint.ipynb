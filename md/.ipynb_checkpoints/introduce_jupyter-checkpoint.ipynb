{
 "cells": [
  {
   "cell_type": "markdown",
   "metadata": {
    "slideshow": {
     "slide_type": "skip"
    }
   },
   "source": [
    ".jupyter/nbconfig/livereveal.json\n",
    "\n",
    "{\n",
    "    \"theme\": \"gaia\",\n",
    "    \"width\": 1024,\n",
    "    \"height\": 768,\n",
    "    \"scroll\": true\n",
    "}"
   ]
  },
  {
   "cell_type": "markdown",
   "metadata": {
    "slideshow": {
     "slide_type": "slide"
    }
   },
   "source": [
    "<img src=\"./main-logo.svg\" style=\"display: block; margin-left: auto; margin-right: auto\" width=\"40%\" height=\"40%\">  "
   ]
  },
  {
   "cell_type": "markdown",
   "metadata": {
    "slideshow": {
     "slide_type": "slide"
    }
   },
   "source": [
    "# Jupyter에 대해 알아보기 전에...\n",
    "### Excel... 잘 쓰고 계시죠?"
   ]
  },
  {
   "cell_type": "markdown",
   "metadata": {
    "slideshow": {
     "slide_type": "slide"
    }
   },
   "source": [
    "# Jupyter에 대해 알아보기 전에...\n",
    "#### Excel은 죄가 없어요\n",
    "\n",
    "<img src=\"./excel.jpg\" width=\"45%\" height=\"45%\">  \n",
    "<img src=\"./excel_hell.jpg\" width=\"45%\" height=\"45%\">  "
   ]
  },
  {
   "cell_type": "markdown",
   "metadata": {
    "slideshow": {
     "slide_type": "slide"
    }
   },
   "source": [
    "# Jupyter에 대해 알아보기 전에...\n",
    "### ??? vs Excel\n",
    "<img src=\"./jupyter_excel.jpg\" width=\"70%\" height=\"70%\">  "
   ]
  },
  {
   "cell_type": "markdown",
   "metadata": {
    "slideshow": {
     "slide_type": "slide"
    }
   },
   "source": [
    "# Jupyter?\n",
    "\n",
    "- web-based interactive computational environment  \n",
    "(python, R, julia, markdown, ...)  \n",
    "- 쉽게 말해 webbrowser 상에서 코딩하고 결과도 보고\n",
    "<img src=\"./labpreview.png\" align=\"left\" width=\"80%\" height=\"80%\">  \n",
    "\n",
    "https://hub.mybinder.turing.ac.uk/user/jupyterlab-jupyterlab-demo-9ud00apg/lab"
   ]
  },
  {
   "cell_type": "markdown",
   "metadata": {
    "slideshow": {
     "slide_type": "slide"
    }
   },
   "source": [
    "# Jupyter?\n",
    "\n",
    "- **IPython**에서 다중 kernel(language)을 지원하기 위해 확장됨\n",
    "- Webbrowser 상에서 *.ipynb 파일을 열고 코드를 실행할 수 있는 shell 제공\n",
    "- 한 페이지에서 코딩, 결과 확인이 실시간으로 가능\n",
    "- 하나의 *.ipynb 파일에 python뿐만 아니라 markdown 문법으로 작성된 설명, 시각화된 그래프 등을 넣을 수 있음\n",
    "- excel을 대체할 수 있는 데이터 분석 도구로 주목받고 있음\n",
    "- 등등 ... 많죠?  \n",
    "<br>\n",
    "\n",
    "참고: https://jupyter.org/"
   ]
  },
  {
   "cell_type": "markdown",
   "metadata": {
    "slideshow": {
     "slide_type": "slide"
    }
   },
   "source": [
    "> #### IPython? (Interactive Python)\n",
    "> - Python용으로 개발 된 대화형 shell\n",
    "> - Python에서 지원하는 기능 외에 최적화, 디버깅, 코드 편집, 탐색 등에 있어 편리한 기능을 포함\n",
    ">   - 실시간으로 object내 data 확인\n",
    ">   - system shell에 바로 접근해 system상의 command 실행 가능\n",
    ">   - 현재 session 동안 기존에 실행했던 command history 제공\n",
    ">   - ipython 자체만의 command 제공 등\n",
    "> - IPython notebook이라는 webbrowser로 확장된 기능을 제공하면서 시각화된 data를 표현할 수 있게됨"
   ]
  },
  {
   "cell_type": "markdown",
   "metadata": {
    "slideshow": {
     "slide_type": "slide"
    }
   },
   "source": [
    "# 주로 어디에 쓰이고 있을까?\n",
    "\n",
    "- N회사의 데이터 시각화 자료\n",
    "<img src=\"./jupyter_sample.jpg\"> "
   ]
  },
  {
   "cell_type": "markdown",
   "metadata": {
    "slideshow": {
     "slide_type": "slide"
    }
   },
   "source": [
    "# 주로 어디에 쓰이고 있을까?\n",
    "\n",
    "- N회사의 데이터 시각화 자료\n",
    "<img src=\"./jupyter_sample2.gif\" width=\"70%\" height=\"70%\"> "
   ]
  },
  {
   "cell_type": "markdown",
   "metadata": {
    "slideshow": {
     "slide_type": "slide"
    }
   },
   "source": [
    "# Demo"
   ]
  },
  {
   "cell_type": "markdown",
   "metadata": {
    "slideshow": {
     "slide_type": "slide"
    }
   },
   "source": [
    "# Code가 보이는건 나만 불편한가...?\n",
    "### 그럴땐 Voila\n",
    "<img src=\"./voila.gif\" width=\"70%\" height=\"70%\"> "
   ]
  },
  {
   "cell_type": "markdown",
   "metadata": {
    "slideshow": {
     "slide_type": "slide"
    }
   },
   "source": [
    "# Code가 보이는건 나만 불편한가...?\n",
    "### 그럴땐 Voila\n",
    "<img src=\"./voila2.gif\" width=\"70%\" height=\"70%\"> "
   ]
  },
  {
   "attachments": {},
   "cell_type": "markdown",
   "metadata": {
    "slideshow": {
     "slide_type": "slide"
    }
   },
   "source": [
    "<img src=\"./jupyter_sponsors.jpg\"> "
   ]
  },
  {
   "cell_type": "code",
   "execution_count": null,
   "metadata": {},
   "outputs": [],
   "source": []
  }
 ],
 "metadata": {
  "celltoolbar": "Slideshow",
  "kernelspec": {
   "display_name": "Python 3",
   "language": "python",
   "name": "python3"
  },
  "language_info": {
   "codemirror_mode": {
    "name": "ipython",
    "version": 3
   },
   "file_extension": ".py",
   "mimetype": "text/x-python",
   "name": "python",
   "nbconvert_exporter": "python",
   "pygments_lexer": "ipython3",
   "version": "3.7.6"
  }
 },
 "nbformat": 4,
 "nbformat_minor": 4
}
